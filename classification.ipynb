{
 "cells": [
  {
   "cell_type": "markdown",
   "metadata": {},
   "source": [
    "# Classification of pikachu vs pichu"
   ]
  },
  {
   "cell_type": "markdown",
   "metadata": {},
   "source": [
    "## reading the datafiles, \n",
    "- pikachu.txt\n",
    "- pichu.txt\n",
    "- test.txt\n",
    "and plotting the data points in a scatterplot"
   ]
  },
  {
   "cell_type": "code",
   "execution_count": 2,
   "metadata": {},
   "outputs": [
    {
     "data": {
      "text/plain": [
       "<matplotlib.legend.Legend at 0x2232dade6d0>"
      ]
     },
     "execution_count": 2,
     "metadata": {},
     "output_type": "execute_result"
    },
    {
     "data": {
      "image/png": "[encoded data removed]",
      "text/plain": [
       "<Figure size 640x480 with 1 Axes>"
      ]
     },
     "metadata": {},
     "output_type": "display_data"
    }
   ],
   "source": [
    "import matplotlib.pyplot as plt\n",
    "import re\n",
    "\n",
    "def ReadData(filename):\n",
    "    file1 = open(filename, 'r')\n",
    "    count = 0\n",
    "\n",
    "    x_values = []\n",
    "    y_values = []\n",
    "    # header in pikachu and Pichu datafiles\n",
    "    head=r'\\(\\s*width\\s*\\(\\s*cm\\s*\\),\\s*height\\s*\\(\\s*cm\\s*\\)\\)'\n",
    "    # skip the header\n",
    "    line = file1.readline()\n",
    "    if re.match(head,line):\n",
    "        while True:\n",
    "            count += 1\n",
    "        \n",
    "            # Get next line from file\n",
    "            line = file1.readline()\n",
    "            \n",
    "            # if line is empty\n",
    "            # end of file is reached\n",
    "            if not line:\n",
    "                break\n",
    "            values = line.strip('()\\n').split(', ')\n",
    "            x_values.append(float(values[0]))\n",
    "            y_values.append(float(values[1]))\n",
    "            # print(\"Line{}: {}\".format(count, line.strip()))\n",
    "        file1.close()\n",
    "    else:\n",
    "        while True:\n",
    "            values = line.split(\"),\")\n",
    "            for tpair in values:\n",
    "                myval=tpair.strip('\\(\\)').strip()\n",
    "                # need to strip some (\n",
    "                xyval=myval.strip('\\()').split(',')\n",
    "                x_values.append(float(xyval[0]))\n",
    "                y_values.append(float(xyval[1]))\n",
    "            line=file1.readline()\n",
    "            if not line:\n",
    "                break\n",
    "\n",
    "        file1.close()\n",
    "    return [x_values,y_values]\n",
    "\n",
    "\n",
    "\n",
    "\n",
    "vect1=ReadData('Pikachu.txt')\n",
    "vect2=ReadData('Pichu.txt')\n",
    "vect3=ReadData('test_points.txt')\n",
    "plt.figure()\n",
    "plt.plot(vect1[0],vect1[1],'bx', label='Pikachu')\n",
    "plt.plot(vect2[0],vect2[1], 'ro', label='Pichu')\n",
    "plt.plot(vect3[0],vect3[1], 'go', label='Test')\n",
    "plt.legend((\"Pikachu\", \"Pichu\"))\n",
    "\n"
   ]
  },
  {
   "cell_type": "markdown",
   "metadata": {},
   "source": [
    "## Euclidian distance \n",
    "Th euclidian is calculated between the testpoints and respective category.\n",
    "The resulting vectors are then sorted."
   ]
  },
  {
   "cell_type": "code",
   "execution_count": 7,
   "metadata": {},
   "outputs": [
    {
     "data": {
      "text/plain": [
       "(1.8304663206363925, 2.439378740901436)"
      ]
     },
     "execution_count": 7,
     "metadata": {},
     "output_type": "execute_result"
    }
   ],
   "source": [
    "def euclidian(x1, y1, x2, y2):\n",
    "    return ((x1-x2)**2 +(y1-y2)**2)**0.5\n",
    "\n",
    "def CalcDist(targetvect, sourcevect):\n",
    "    resultv=[]\n",
    "    sortedresults=[]\n",
    "    for i,x in enumerate(targetvect[0]):\n",
    "        resultv.append([])\n",
    "        sortedresults.append([])\n",
    "        for j,y in enumerate(sourcevect[0]):\n",
    "            resultv[i].append(euclidian(targetvect[0][i],targetvect[1][i],sourcevect[0][j],sourcevect[1][j]))\n",
    "        sortedresults[i]=sorted(resultv[i])\n",
    "    return sortedresults\n",
    "   \n",
    "sortedPikachu= CalcDist(vect3,vect1)\n",
    "sortedPichu= CalcDist(vect3,vect2)\n",
    "\n",
    "\n"
   ]
  },
  {
   "cell_type": "markdown",
   "metadata": {},
   "source": [
    "## Comparing the smallest distance to testpoints and predict outcome\n"
   ]
  },
  {
   "cell_type": "code",
   "execution_count": 8,
   "metadata": {},
   "outputs": [
    {
     "name": "stdout",
     "output_type": "stream",
     "text": [
      "Sample with (width, height): (25.0,35.0) classified as Pikachu\n",
      "Sample with (width, height): (15.0,14.0) classified as Pichu\n",
      "Sample with (width, height): (26.0,30.0) classified as Pichu\n",
      "Sample with (width, height): (22.0,45.0) classified as Pikachu\n"
     ]
    }
   ],
   "source": [
    "for i,x in enumerate(vect3[0]):\n",
    "    if sortedPikachu[i][0] < sortedPichu[i][0]:\n",
    "        print(f\"Sample with (width, height): ({vect3[0][i]},{vect3[1][i]}) classified as Pikachu\")\n",
    "    elif sortedPikachu[i][0] > sortedPichu[i][0]:\n",
    "        print(f\"Sample with (width, height): ({vect3[0][i]},{vect3[1][i]}) classified as Pichu\")\n",
    "    else:\n",
    "        print(f\"Sample with (width, height): ({vect3[0][i]},{vect3[1][i]}) is indeterminate\")"
   ]
  },
  {
   "cell_type": "markdown",
   "metadata": {},
   "source": [
    "## Uppgifter\n",
    "Låt användaren mata in en godtycklig punkt och avgör om det är en Pikachu \n",
    "eller Pichu."
   ]
  },
  {
   "cell_type": "code",
   "execution_count": null,
   "metadata": {},
   "outputs": [],
   "source": []
  }
 ],
 "metadata": {
  "kernelspec": {
   "display_name": "venv",
   "language": "python",
   "name": "python3"
  },
  "language_info": {
   "codemirror_mode": {
    "name": "ipython",
    "version": 3
   },
   "file_extension": ".py",
   "mimetype": "text/x-python",
   "name": "python",
   "nbconvert_exporter": "python",
   "pygments_lexer": "ipython3",
   "version": "3.11.7"
  }
 },
 "nbformat": 4,
 "nbformat_minor": 2
}
