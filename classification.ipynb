{
 "cells": [
  {
   "cell_type": "markdown",
   "metadata": {},
   "source": [
    "# Classification of pikachu vs pichu"
   ]
  },
  {
   "cell_type": "markdown",
   "metadata": {},
   "source": [
    "## reading the datafiles, \n",
    "- pikachu.txt\n",
    "- pichu.txt\n",
    "- test.txt\n",
    "and plotting the data points in a scatterplot"
   ]
  },
  {
   "cell_type": "code",
   "execution_count": 2,
   "metadata": {},
   "outputs": [
    {
     "data": {
      "text/plain": [
       "[[25.0, 15.0, 26.0, 22.0], [35.0, 14.0, 30.0, 45.0]]"
      ]
     },
     "execution_count": 2,
     "metadata": {},
     "output_type": "execute_result"
    },
    {
     "data": {
      "image/png": "[encoded data removed]",
      "text/plain": [
       "<Figure size 640x480 with 1 Axes>"
      ]
     },
     "metadata": {},
     "output_type": "display_data"
    }
   ],
   "source": [
    "import matplotlib.pyplot as plt\n",
    "import re\n",
    "\n",
    "def ReadData(filename):\n",
    "    file1 = open(filename, 'r')\n",
    "    count = 0\n",
    "\n",
    "    x_values = []\n",
    "    y_values = []\n",
    "    # header in pikachu and Pichu datafiles\n",
    "    head=r'\\(\\s*width\\s*\\(\\s*cm\\s*\\),\\s*height\\s*\\(\\s*cm\\s*\\)\\)'\n",
    "    # skip the header\n",
    "    line = file1.readline()\n",
    "    if re.match(head,line):\n",
    "        while True:\n",
    "            count += 1\n",
    "        \n",
    "            # Get next line from file\n",
    "            line = file1.readline()\n",
    "            \n",
    "            # if line is empty\n",
    "            # end of file is reached\n",
    "            if not line:\n",
    "                break\n",
    "            values = line.strip('()\\n').split(', ')\n",
    "            x_values.append(float(values[0]))\n",
    "            y_values.append(float(values[1]))\n",
    "            # print(\"Line{}: {}\".format(count, line.strip()))\n",
    "        file1.close()\n",
    "    else:\n",
    "        while True:\n",
    "            values = line.split(\"),\")\n",
    "            for tpair in values:\n",
    "                myval=tpair.strip('\\(\\)').strip()\n",
    "                # need to strip some (\n",
    "                xyval=myval.strip('\\()').split(',')\n",
    "                # print(f\"{xyval}\") = [x1, y1], [x2, y2]\n",
    "                x_values.append(float(xyval[0]))\n",
    "                y_values.append(float(xyval[1]))\n",
    "            line=file1.readline()\n",
    "            if not line:\n",
    "                break\n",
    "\n",
    "        file1.close()\n",
    "    return [x_values,y_values]\n",
    "\n",
    "\n",
    "\n",
    "\n",
    "vect1=ReadData('Pikachu.txt')\n",
    "vect2=ReadData('Pichu.txt')\n",
    "vect3=ReadData('test_points.txt')\n",
    "plt.figure()\n",
    "plt.plot(vect1[0],vect1[1],'bx', label='Pikachu')\n",
    "plt.plot(vect2[0],vect2[1], 'ro', label='Pichu')\n",
    "plt.plot(vect3[0],vect3[1], 'go', label='Test')\n",
    "plt.legend((\"Pikachu\", \"Pichu\"))\n",
    "\n",
    "vect3\n"
   ]
  },
  {
   "cell_type": "markdown",
   "metadata": {},
   "source": [
    "## Euclidian distance \n",
    "Th euclidian is calculated between the testpoints and respective category.\n",
    "The resulting vectors are then sorted."
   ]
  },
  {
   "cell_type": "code",
   "execution_count": 112,
   "metadata": {},
   "outputs": [],
   "source": [
    "# Function calculating the Euclidean distance\n",
    "\n",
    "def euclidian(x1, y1, x2, y2):\n",
    "    return ((x1-x2)**2 +(y1-y2)**2)**0.5\n",
    "\n",
    "# Calculating distance beween traget vector (points to classify) and source \n",
    "# vector (data points for the known classes)\n",
    "\n",
    "def CalcDist(targetvect, sourcevect):\n",
    "    resultv=[]\n",
    "    sortedresults=[]\n",
    "    for i,x in enumerate(targetvect[0]):\n",
    "        resultv.append([])\n",
    "        sortedresults.append([])\n",
    "        for j,y in enumerate(sourcevect[0]):\n",
    "            resultv[i].append(euclidian(targetvect[0][i],targetvect[1][i],sourcevect[0][j],sourcevect[1][j]))\n",
    "        sortedresults[i]=sorted(resultv[i])\n",
    "    return sortedresults\n",
    "\n",
    "# Obtain the sorted Euclidean distances form the known classes\n",
    "\n",
    "sortedPikachu= CalcDist(vect3,vect1)\n",
    "sortedPichu= CalcDist(vect3,vect2)\n",
    "\n",
    "\n"
   ]
  },
  {
   "cell_type": "markdown",
   "metadata": {},
   "source": [
    "## Comparing the smallest distance to testpoints and predict outcome\n"
   ]
  },
  {
   "cell_type": "code",
   "execution_count": 4,
   "metadata": {},
   "outputs": [
    {
     "name": "stdout",
     "output_type": "stream",
     "text": [
      "Sample with (width, height): (25.0,35.0) classified as Pikachu\n",
      "Sample with (width, height): (15.0,14.0) classified as Pichu\n",
      "Sample with (width, height): (26.0,30.0) classified as Pichu\n",
      "Sample with (width, height): (22.0,45.0) classified as Pikachu\n"
     ]
    }
   ],
   "source": [
    "def Classify(invect):\n",
    "    for i,x in enumerate(invect[0]):\n",
    "        if sortedPikachu[i][0] < sortedPichu[i][0]:\n",
    "            print(f\"Sample with (width, height): ({invect[0][i]},{invect[1][i]}) classified as Pikachu\")\n",
    "        elif sortedPikachu[i][0] > sortedPichu[i][0]:\n",
    "            print(f\"Sample with (width, height): ({invect[0][i]},{invect[1][i]}) classified as Pichu\")\n",
    "        else:\n",
    "            print(f\"Sample with (width, height): ({invect[0][i]},{invect[1][i]}) is indeterminate\")\n",
    "\n",
    "# Classify the test data\n",
    "\n",
    "Classify(vect3)\n"
   ]
  },
  {
   "cell_type": "markdown",
   "metadata": {},
   "source": [
    "## Assignments\n",
    "Låt användaren mata in en godtycklig punkt och avgör om det är en Pikachu \n",
    "eller Pichu."
   ]
  },
  {
   "cell_type": "code",
   "execution_count": 103,
   "metadata": {},
   "outputs": [
    {
     "name": "stdout",
     "output_type": "stream",
     "text": [
      "Sample with (width, height): (12,18) classified as Pichu\n"
     ]
    },
    {
     "data": {
      "text/plain": [
       "[<matplotlib.lines.Line2D at 0x272c4f066d0>]"
      ]
     },
     "execution_count": 103,
     "metadata": {},
     "output_type": "execute_result"
    },
    {
     "data": {
      "image/png": "[encoded data removed]",
      "text/plain": [
       "<Figure size 640x480 with 1 Axes>"
      ]
     },
     "metadata": {},
     "output_type": "display_data"
    }
   ],
   "source": [
    "from numbers import Number\n",
    "\n",
    "def Readcoordinate(coord):\n",
    "    while True:\n",
    "        try:\n",
    "            intTarget = int(input(f\"Your {coord} coordinate (must be an int >=0?\"))\n",
    "        except ValueError:\n",
    "            continue\n",
    "        else:\n",
    "            if intTarget < 1:\n",
    "                continue\n",
    "            else:\n",
    "                return (intTarget)\n",
    "            \n",
    "\n",
    "def Onepointdist(x,y, sourcevect):\n",
    "    resv=[]\n",
    "    for j,y in enumerate(sourcevect[0]):  \n",
    "        resv.append([])\n",
    "        resv[j].append(euclidian(x,y,sourcevect[0][j],sourcevect[1][j]))\n",
    "    return sorted(resv)\n",
    "\n",
    "\n",
    "\n",
    "xcoord=Readcoordinate(\"X\")\n",
    "ycoord=Readcoordinate(\"Y\")\n",
    "\n",
    "\n",
    "pikachusort=Onepointdist(xcoord, ycoord, vect1)\n",
    "pichusort=Onepointdist(xcoord, ycoord, vect2)\n",
    "\n",
    "if pikachusort[0]< pichusort[0]:\n",
    "    print(f\"Sample with (width, height): ({xcoord},{ycoord}) classified as Pikachu\")\n",
    "elif pikachusort[0] > pichusort[0]:\n",
    "    print(f\"Sample with (width, height): ({xcoord},{ycoord}) classified as Pichu\")\n",
    "else:\n",
    "    print(f\"Sample with (width, height): ({xcoord},{ycoord}) is indeterminate\")\n",
    "\n",
    "\n",
    "\n",
    "\n",
    "plt.plot(vect1[0],vect1[1],'bx', label='Pikachu')\n",
    "plt.plot(vect2[0],vect2[1], 'ro', label='Pichu')\n",
    "plt.plot(xcoord,ycoord, 'go', label='Test')\n",
    "# plt.legend(\"Pikachu\", \"Pichu\")"
   ]
  },
  {
   "cell_type": "markdown",
   "metadata": {},
   "source": [
    "## uppgift 2\n",
    "Nu ska du istället välja de fem närmaste punkterna till din testpunkt. Den klass\n",
    "testpunkten tillhör avgörs av majoritetsklassen av de närmaste punkterna.\n",
    "\n",
    "- först testast denna appoach på de testpounkter som var givna i uppgiften"
   ]
  },
  {
   "cell_type": "code",
   "execution_count": 128,
   "metadata": {},
   "outputs": [
    {
     "name": "stdout",
     "output_type": "stream",
     "text": [
      "Sample with (width, height): (25.0,35.0) classified as Pikachu favour 4 to 1\n",
      "Sample with (width, height): (15.0,14.0) classified as Pichu favour 5 to 0\n",
      "Sample with (width, height): (26.0,30.0) classified as Pichu favour 5 to 0\n",
      "Sample with (width, height): (22.0,45.0) classified as Pikachu favour 5 to 0\n"
     ]
    }
   ],
   "source": [
    "\n",
    "# since we already have the distances between all pichu/pikachu points and testpoints\n",
    "# just shorten the list to 5 points in the sorted distance list for each class (five is \n",
    "# the maximal number if all comes from one of the classes)\n",
    "\n",
    "\n",
    "def typ5dist(target, source, id):\n",
    "    top5res=[]\n",
    "    for i,x in enumerate(target[0]):\n",
    "        top5res.append([])\n",
    "        makemyres=source[i][:5]\n",
    "        for z in makemyres:\n",
    "            top5res[i].append([i, z, id])\n",
    "    return top5res\n",
    "\n",
    "# obtain the top 5 from each of the testpoints for Pikachu and Pichu\n",
    "# sortedPikachu and sordedPichu contains a list of list, a list for the \n",
    "# given testpoint distances in a list of all the testpoints\n",
    "\n",
    "\n",
    "pikachu5top=typ5dist(vect3, sortedPikachu, 1)\n",
    "pichu5top=typ5dist(vect3, sortedPichu, 2)\n",
    "\n",
    "# function to join the top 5 lists for the testpoint list from each class (Pikatchu and Pichu), \n",
    "# That is, if we merge the to category lists we can use the traditional sort to count the \n",
    "# occurence of each category in the top 5.\n",
    "\n",
    "def joinmerge (test, pikachu5sort, pichu5sort):\n",
    "    major=[]\n",
    "    for z,b in enumerate(test[0]):\n",
    "        major.append(pikachu5sort[z]+pichu5sort[z])\n",
    "    return major\n",
    "\n",
    "\n",
    "def sub_points_category(out):\n",
    "    sorted_list=[]\n",
    "    for j,x in enumerate(out):\n",
    "        tmp=out[j]\n",
    "        sorted_list.append(sorted(tmp, key=lambda x: x[1]))\n",
    "    return sorted_list\n",
    "\n",
    "def judge(out_list, test): # test is the target vector, to enable printouts\n",
    "    for j,x in enumerate(out_list):\n",
    "        # print(f\" {out_list[j]}\") \n",
    "        count_pichu=0\n",
    "        count_pikacchu=0\n",
    "        measure=out_list[j][:5]\n",
    "        for i,z in enumerate(measure):\n",
    "            if out_list[j][i][2]==1:\n",
    "                count_pikacchu +=1\n",
    "            else:\n",
    "                count_pichu +=1\n",
    "        if (count_pikacchu > count_pichu):\n",
    "            print(f\"Sample with (width, height): ({test[0][j]},{test[1][j]}) classified as Pikachu favour {count_pikacchu} to {count_pichu}\")\n",
    "        elif (count_pikacchu < count_pichu):\n",
    "            print(f\"Sample with (width, height): ({test[0][j]},{test[1][j]}) classified as Pichu favour {count_pichu} to {count_pikacchu}\")\n",
    "        else:\n",
    "             print(f\"Sample with (width, height): ({test[0][j]},{test[1][j]}) is indeterminate\") # this cannot happen but kept in case of futher development\n",
    "\n",
    "\n",
    "judge(sub_points_category(joinmerge(vect3,pikachu5top,pichu5top)), vect3)\n",
    "\n"
   ]
  },
  {
   "cell_type": "code",
   "execution_count": 131,
   "metadata": {},
   "outputs": [
    {
     "name": "stdout",
     "output_type": "stream",
     "text": [
      "Sample with (width, height): (21,35) classified as Pichu favour 3 to 2\n"
     ]
    },
    {
     "data": {
      "text/plain": [
       "[<matplotlib.lines.Line2D at 0x272c0d055d0>]"
      ]
     },
     "execution_count": 131,
     "metadata": {},
     "output_type": "execute_result"
    },
    {
     "data": {
      "image/png": "[encoded data removed]",
      "text/plain": [
       "<Figure size 640x480 with 1 Axes>"
      ]
     },
     "metadata": {},
     "output_type": "display_data"
    }
   ],
   "source": [
    "x5coord=Readcoordinate(\"X\")\n",
    "y5coord=Readcoordinate(\"Y\")\n",
    "\n",
    "target=[[x5coord],[y5coord]]\n",
    "\n",
    "pikachus= CalcDist(target,vect1) # calculate distances to Pikachu\n",
    "pichus =CalcDist(target,vect2) # calculate distances to pichu\n",
    "\n",
    "top5pika=typ5dist(target, pikachus, 1)\n",
    "top5pich=typ5dist(target, pichus, 2)\n",
    "\n",
    "\n",
    "judge(sub_points_category(joinmerge(target,top5pika,top5pich)),target)\n",
    "\n",
    "plt.plot(vect1[0],vect1[1],'bx', label='Pikachu')\n",
    "plt.plot(vect2[0],vect2[1], 'ro', label='Pichu')\n",
    "plt.plot(x5coord,y5coord, 'go', label='Test')"
   ]
  },
  {
   "cell_type": "code",
   "execution_count": null,
   "metadata": {},
   "outputs": [],
   "source": []
  }
 ],
 "metadata": {
  "kernelspec": {
   "display_name": "venv",
   "language": "python",
   "name": "python3"
  },
  "language_info": {
   "codemirror_mode": {
    "name": "ipython",
    "version": 3
   },
   "file_extension": ".py",
   "mimetype": "text/x-python",
   "name": "python",
   "nbconvert_exporter": "python",
   "pygments_lexer": "ipython3",
   "version": "3.11.7"
  }
 },
 "nbformat": 4,
 "nbformat_minor": 2
}
